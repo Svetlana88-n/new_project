{
  "nbformat": 4,
  "nbformat_minor": 0,
  "metadata": {
    "colab": {
      "provenance": []
    },
    "kernelspec": {
      "name": "python3",
      "display_name": "Python 3"
    },
    "language_info": {
      "name": "python"
    }
  },
  "cells": [
    {
      "cell_type": "code",
      "execution_count": 18,
      "metadata": {
        "colab": {
          "base_uri": "https://localhost:8080/"
        },
        "id": "RIgwqU5QzLc6",
        "outputId": "d655e756-a111-4e3d-ff85-3e7cd64b6ffd",
        "collapsed": true
      },
      "outputs": [
        {
          "output_type": "stream",
          "name": "stdout",
          "text": [
            "Requirement already satisfied: pandas in /usr/local/lib/python3.12/dist-packages (2.2.2)\n",
            "Requirement already satisfied: numpy>=1.26.0 in /usr/local/lib/python3.12/dist-packages (from pandas) (2.0.2)\n",
            "Requirement already satisfied: python-dateutil>=2.8.2 in /usr/local/lib/python3.12/dist-packages (from pandas) (2.9.0.post0)\n",
            "Requirement already satisfied: pytz>=2020.1 in /usr/local/lib/python3.12/dist-packages (from pandas) (2025.2)\n",
            "Requirement already satisfied: tzdata>=2022.7 in /usr/local/lib/python3.12/dist-packages (from pandas) (2025.2)\n",
            "Requirement already satisfied: six>=1.5 in /usr/local/lib/python3.12/dist-packages (from python-dateutil>=2.8.2->pandas) (1.17.0)\n"
          ]
        }
      ],
      "source": [
        "!pip install pandas\n",
        "import pandas as pd"
      ]
    },
    {
      "cell_type": "code",
      "source": [
        " def read_dataset(url):\n",
        "     df=pd.read_csv(url)\n",
        "     print(df.head(10))\n",
        "     return df\n",
        " url = 'https://drive.google.com/uc?id=1C_iqgpDk2RqQJzV_5J2Nok8DfFMomVbQ'\n",
        " df = read_dataset(url)"
      ],
      "metadata": {
        "colab": {
          "base_uri": "https://localhost:8080/"
        },
        "collapsed": true,
        "id": "vSXjAP16UxhO",
        "outputId": "fdbf61cd-49c1-4ab2-c7f3-3a5b078a6b13"
      },
      "execution_count": 19,
      "outputs": [
        {
          "output_type": "stream",
          "name": "stdout",
          "text": [
            "  Description         Name  year iso_code  population  gdp  cement_co2  \\\n",
            "0     Country  Afghanistan  1850      AFG     3752993  NaN         0.0   \n",
            "1     Country  Afghanistan  1851      AFG     3767956  NaN         0.0   \n",
            "2     Country  Afghanistan  1852      AFG     3783940  NaN         0.0   \n",
            "3     Country  Afghanistan  1853      AFG     3800954  NaN         0.0   \n",
            "4     Country  Afghanistan  1854      AFG     3818038  NaN         0.0   \n",
            "5     Country  Afghanistan  1855      AFG     3835192  NaN         0.0   \n",
            "6     Country  Afghanistan  1856      AFG     3852417  NaN         0.0   \n",
            "7     Country  Afghanistan  1857      AFG     3869714  NaN         0.0   \n",
            "8     Country  Afghanistan  1858      AFG     3887081  NaN         0.0   \n",
            "9     Country  Afghanistan  1859      AFG     3904521  NaN         0.0   \n",
            "\n",
            "   cement_co2_per_capita  co2  co2_growth_abs  ...  share_global_other_co2  \\\n",
            "0                    0.0  NaN             NaN  ...                     NaN   \n",
            "1                    0.0  NaN             NaN  ...                     NaN   \n",
            "2                    0.0  NaN             NaN  ...                     NaN   \n",
            "3                    0.0  NaN             NaN  ...                     NaN   \n",
            "4                    0.0  NaN             NaN  ...                     NaN   \n",
            "5                    0.0  NaN             NaN  ...                     NaN   \n",
            "6                    0.0  NaN             NaN  ...                     NaN   \n",
            "7                    0.0  NaN             NaN  ...                     NaN   \n",
            "8                    0.0  NaN             NaN  ...                     NaN   \n",
            "9                    0.0  NaN             NaN  ...                     NaN   \n",
            "\n",
            "   share_of_temperature_change_from_ghg  temperature_change_from_ch4  \\\n",
            "0                                   NaN                          NaN   \n",
            "1                                 0.156                          0.0   \n",
            "2                                 0.155                          0.0   \n",
            "3                                 0.155                          0.0   \n",
            "4                                 0.155                          0.0   \n",
            "5                                 0.155                          0.0   \n",
            "6                                 0.154                          0.0   \n",
            "7                                 0.154                          0.0   \n",
            "8                                 0.154                          0.0   \n",
            "9                                 0.154                          0.0   \n",
            "\n",
            "   temperature_change_from_co2  temperature_change_from_ghg  \\\n",
            "0                          NaN                          NaN   \n",
            "1                          0.0                          0.0   \n",
            "2                          0.0                          0.0   \n",
            "3                          0.0                          0.0   \n",
            "4                          0.0                          0.0   \n",
            "5                          0.0                          0.0   \n",
            "6                          0.0                          0.0   \n",
            "7                          0.0                          0.0   \n",
            "8                          0.0                          0.0   \n",
            "9                          0.0                          0.0   \n",
            "\n",
            "   temperature_change_from_n2o  total_ghg  total_ghg_excluding_lucf  \\\n",
            "0                          NaN      7.436                     0.629   \n",
            "1                          0.0      7.500                     0.633   \n",
            "2                          0.0      7.560                     0.637   \n",
            "3                          0.0      7.620                     0.641   \n",
            "4                          0.0      7.678                     0.644   \n",
            "5                          0.0      7.735                     0.648   \n",
            "6                          0.0      7.790                     0.652   \n",
            "7                          0.0      7.845                     0.656   \n",
            "8                          0.0      7.899                     0.660   \n",
            "9                          0.0      7.950                     0.663   \n",
            "\n",
            "   trade_co2  trade_co2_share  \n",
            "0        NaN              NaN  \n",
            "1        NaN              NaN  \n",
            "2        NaN              NaN  \n",
            "3        NaN              NaN  \n",
            "4        NaN              NaN  \n",
            "5        NaN              NaN  \n",
            "6        NaN              NaN  \n",
            "7        NaN              NaN  \n",
            "8        NaN              NaN  \n",
            "9        NaN              NaN  \n",
            "\n",
            "[10 rows x 80 columns]\n"
          ]
        }
      ]
    },
    {
      "cell_type": "code",
      "source": [
        "print(\"Original Data Types:\")\n",
        "print(df.dtypes)"
      ],
      "metadata": {
        "colab": {
          "base_uri": "https://localhost:8080/"
        },
        "id": "OFGm9N2M1WIH",
        "outputId": "2337d899-9a1b-4c75-f736-f6a59c78df9e",
        "collapsed": true
      },
      "execution_count": 20,
      "outputs": [
        {
          "output_type": "stream",
          "name": "stdout",
          "text": [
            "Original Data Types:\n",
            "Description                     object\n",
            "Name                            object\n",
            "year                             int64\n",
            "iso_code                        object\n",
            "population                       int64\n",
            "                                ...   \n",
            "temperature_change_from_n2o    float64\n",
            "total_ghg                      float64\n",
            "total_ghg_excluding_lucf       float64\n",
            "trade_co2                      float64\n",
            "trade_co2_share                float64\n",
            "Length: 80, dtype: object\n"
          ]
        }
      ]
    },
    {
      "cell_type": "code",
      "source": [
        "# Анализ данных\n",
        "print(\"Размер данных:\", df.shape)\n",
        "print(\"Количество колонок:\", len(df.columns))\n",
        "print(\"Пустые значения в первых 10 колонках:\")\n",
        "print(df.isnull().sum().head(10))"
      ],
      "metadata": {
        "colab": {
          "base_uri": "https://localhost:8080/"
        },
        "id": "54Hbqb775vwn",
        "outputId": "9f454157-2afe-41a5-e0da-bc511ce768fc",
        "collapsed": true
      },
      "execution_count": 21,
      "outputs": [
        {
          "output_type": "stream",
          "name": "stdout",
          "text": [
            "Размер данных: (1044, 80)\n",
            "Количество колонок: 80\n",
            "Пустые значения в первых 10 колонках:\n",
            "Description                0\n",
            "Name                       0\n",
            "year                       0\n",
            "iso_code                   0\n",
            "population                 0\n",
            "gdp                      744\n",
            "cement_co2               368\n",
            "cement_co2_per_capita    368\n",
            "co2                      588\n",
            "co2_growth_abs           594\n",
            "dtype: int64\n"
          ]
        }
      ]
    },
    {
      "cell_type": "code",
      "source": [
        "# Анализ типов\n",
        "print(\"\\nТипы данных до преобразования:\")\n",
        "print(df.dtypes.head(10))"
      ],
      "metadata": {
        "colab": {
          "base_uri": "https://localhost:8080/"
        },
        "id": "JU13FzAB51-N",
        "outputId": "8d7d7aac-b1d9-4666-d2f1-13f8e6b56422",
        "collapsed": true
      },
      "execution_count": 22,
      "outputs": [
        {
          "output_type": "stream",
          "name": "stdout",
          "text": [
            "\n",
            "Типы данных до преобразования:\n",
            "Description               object\n",
            "Name                      object\n",
            "year                       int64\n",
            "iso_code                  object\n",
            "population                 int64\n",
            "gdp                      float64\n",
            "cement_co2               float64\n",
            "cement_co2_per_capita    float64\n",
            "co2                      float64\n",
            "co2_growth_abs           float64\n",
            "dtype: object\n"
          ]
        }
      ]
    },
    {
      "cell_type": "code",
      "source": [
        "newdf = df.convert_dtypes()"
      ],
      "metadata": {
        "id": "T4-m3xD31w4_"
      },
      "execution_count": 23,
      "outputs": []
    },
    {
      "cell_type": "code",
      "source": [
        "# Список колонок, которые должны остаться вещественными числами\n",
        "float_columns = [\n",
        "    'gdp', 'cumulative_other_co2', 'other_co2_per_capita',\n",
        "    'other_industry_co2', 'share_global_cumulative_other_co2',\n",
        "    'share_global_other_co2', 'temperature_change_from_n2o'\n",
        "]"
      ],
      "metadata": {
        "id": "kJ4MH0IuW_Hj"
      },
      "execution_count": 24,
      "outputs": []
    },
    {
      "cell_type": "code",
      "source": [
        "for col in float_columns:\n",
        "    if col in newdf.columns and newdf[col].dtype == 'Int64':\n",
        "        newdf[col] = newdf[col].astype('Float64')"
      ],
      "metadata": {
        "id": "wPx9XC1_XQWn"
      },
      "execution_count": 25,
      "outputs": []
    },
    {
      "cell_type": "code",
      "source": [
        "print(\" \\nNew Data Types:\")\n",
        "print(newdf.dtypes.head(10))"
      ],
      "metadata": {
        "colab": {
          "base_uri": "https://localhost:8080/"
        },
        "id": "BvBOrrhc11rc",
        "outputId": "a3c8d883-4292-4158-b9a2-cf32b360630d",
        "collapsed": true
      },
      "execution_count": 26,
      "outputs": [
        {
          "output_type": "stream",
          "name": "stdout",
          "text": [
            " \n",
            "New Data Types:\n",
            "Description              string[python]\n",
            "Name                     string[python]\n",
            "year                              Int64\n",
            "iso_code                 string[python]\n",
            "population                        Int64\n",
            "gdp                             Float64\n",
            "cement_co2                      Float64\n",
            "cement_co2_per_capita           Float64\n",
            "co2                             Float64\n",
            "co2_growth_abs                  Float64\n",
            "dtype: object\n"
          ]
        }
      ]
    },
    {
      "cell_type": "code",
      "source": [
        "print(\"\\nИзменения в типах данных:\")\n",
        "changes_count = 0\n",
        "for col in df.columns:\n",
        "    if df[col].dtype != newdf[col].dtype:\n",
        "        print(f\"{col}: {df[col].dtype} -> {newdf[col].dtype}\")\n",
        "        changes_count += 1\n",
        "\n",
        "print(f\"\\nВсего изменено типов: {changes_count}\")"
      ],
      "metadata": {
        "colab": {
          "base_uri": "https://localhost:8080/"
        },
        "id": "dOeZGsUQ6VMa",
        "outputId": "2c52cfa1-e606-42bf-b1fa-770769755d5d",
        "collapsed": true
      },
      "execution_count": 27,
      "outputs": [
        {
          "output_type": "stream",
          "name": "stdout",
          "text": [
            "\n",
            "Изменения в типах данных:\n",
            "Description: object -> string\n",
            "Name: object -> string\n",
            "year: int64 -> Int64\n",
            "iso_code: object -> string\n",
            "population: int64 -> Int64\n",
            "gdp: float64 -> Float64\n",
            "cement_co2: float64 -> Float64\n",
            "cement_co2_per_capita: float64 -> Float64\n",
            "co2: float64 -> Float64\n",
            "co2_growth_abs: float64 -> Float64\n",
            "co2_growth_prct: float64 -> Float64\n",
            "co2_including_luc: float64 -> Float64\n",
            "co2_including_luc_growth_abs: float64 -> Float64\n",
            "co2_including_luc_growth_prct: float64 -> Float64\n",
            "co2_including_luc_per_capita: float64 -> Float64\n",
            "co2_including_luc_per_gdp: float64 -> Float64\n",
            "co2_including_luc_per_unit_energy: float64 -> Float64\n",
            "co2_per_capita: float64 -> Float64\n",
            "co2_per_gdp: float64 -> Float64\n",
            "co2_per_unit_energy: float64 -> Float64\n",
            "coal_co2: float64 -> Float64\n",
            "coal_co2_per_capita: float64 -> Float64\n",
            "consumption_co2: float64 -> Float64\n",
            "consumption_co2_per_capita: float64 -> Float64\n",
            "consumption_co2_per_gdp: float64 -> Float64\n",
            "cumulative_cement_co2: float64 -> Float64\n",
            "cumulative_co2: float64 -> Float64\n",
            "cumulative_co2_including_luc: float64 -> Float64\n",
            "cumulative_coal_co2: float64 -> Float64\n",
            "cumulative_flaring_co2: float64 -> Float64\n",
            "cumulative_gas_co2: float64 -> Float64\n",
            "cumulative_luc_co2: float64 -> Float64\n",
            "cumulative_oil_co2: float64 -> Float64\n",
            "cumulative_other_co2: float64 -> Float64\n",
            "energy_per_capita: float64 -> Float64\n",
            "energy_per_gdp: float64 -> Float64\n",
            "flaring_co2: float64 -> Float64\n",
            "flaring_co2_per_capita: float64 -> Float64\n",
            "gas_co2: float64 -> Float64\n",
            "gas_co2_per_capita: float64 -> Float64\n",
            "ghg_excluding_lucf_per_capita: float64 -> Float64\n",
            "ghg_per_capita: float64 -> Float64\n",
            "land_use_change_co2: float64 -> Float64\n",
            "land_use_change_co2_per_capita: float64 -> Float64\n",
            "methane: float64 -> Float64\n",
            "methane_per_capita: float64 -> Float64\n",
            "nitrous_oxide: float64 -> Float64\n",
            "nitrous_oxide_per_capita: float64 -> Float64\n",
            "oil_co2: float64 -> Float64\n",
            "oil_co2_per_capita: float64 -> Float64\n",
            "other_co2_per_capita: float64 -> Float64\n",
            "other_industry_co2: float64 -> Float64\n",
            "primary_energy_consumption: float64 -> Float64\n",
            "share_global_cement_co2: float64 -> Float64\n",
            "share_global_co2: float64 -> Float64\n",
            "share_global_co2_including_luc: float64 -> Float64\n",
            "share_global_coal_co2: float64 -> Float64\n",
            "share_global_cumulative_cement_co2: float64 -> Float64\n",
            "share_global_cumulative_co2: float64 -> Float64\n",
            "share_global_cumulative_co2_including_luc: float64 -> Float64\n",
            "share_global_cumulative_coal_co2: float64 -> Float64\n",
            "share_global_cumulative_flaring_co2: float64 -> Float64\n",
            "share_global_cumulative_gas_co2: float64 -> Float64\n",
            "share_global_cumulative_luc_co2: float64 -> Float64\n",
            "share_global_cumulative_oil_co2: float64 -> Float64\n",
            "share_global_cumulative_other_co2: float64 -> Float64\n",
            "share_global_flaring_co2: float64 -> Float64\n",
            "share_global_gas_co2: float64 -> Float64\n",
            "share_global_luc_co2: float64 -> Float64\n",
            "share_global_oil_co2: float64 -> Float64\n",
            "share_global_other_co2: float64 -> Float64\n",
            "share_of_temperature_change_from_ghg: float64 -> Float64\n",
            "temperature_change_from_ch4: float64 -> Float64\n",
            "temperature_change_from_co2: float64 -> Float64\n",
            "temperature_change_from_ghg: float64 -> Float64\n",
            "temperature_change_from_n2o: float64 -> Float64\n",
            "total_ghg: float64 -> Float64\n",
            "total_ghg_excluding_lucf: float64 -> Float64\n",
            "trade_co2: float64 -> Float64\n",
            "trade_co2_share: float64 -> Float64\n",
            "\n",
            "Всего изменено типов: 80\n"
          ]
        }
      ]
    },
    {
      "cell_type": "code",
      "source": [
        "# Проверка\n",
        "problem_columns = ['gdp', 'cumulative_other_co2', 'temperature_change_from_n2o']\n",
        "for col in problem_columns:\n",
        "    if col in newdf.columns:\n",
        "        print(f\"{col}: {newdf[col].dtype}\")\n",
        "        print(f\"Пример значений: {newdf[col].head(3).tolist()}\")"
      ],
      "metadata": {
        "colab": {
          "base_uri": "https://localhost:8080/"
        },
        "id": "wXOLlBkOYxIc",
        "outputId": "630941ef-afc2-48fb-8faf-76035e7314b7"
      },
      "execution_count": 29,
      "outputs": [
        {
          "output_type": "stream",
          "name": "stdout",
          "text": [
            "gdp: Float64\n",
            "Пример значений: [<NA>, <NA>, <NA>]\n",
            "cumulative_other_co2: Float64\n",
            "Пример значений: [<NA>, <NA>, <NA>]\n",
            "temperature_change_from_n2o: Float64\n",
            "Пример значений: [<NA>, 0.0, 0.0]\n"
          ]
        }
      ]
    }
  ]
}